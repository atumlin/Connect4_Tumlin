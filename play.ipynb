{
 "cells": [
  {
   "cell_type": "markdown",
   "metadata": {},
   "source": [
    "# Play Connect Five"
   ]
  },
  {
   "cell_type": "code",
   "execution_count": 5,
   "metadata": {},
   "outputs": [],
   "source": [
    "from connect4 import Connect4Board"
   ]
  },
  {
   "cell_type": "markdown",
   "metadata": {},
   "source": [
    "## Game configuration"
   ]
  },
  {
   "cell_type": "code",
   "execution_count": 6,
   "metadata": {},
   "outputs": [],
   "source": [
    "Ngames=5 #Number of games \n",
    "ROWS, COLS = 7, 8\n",
    "CONNECT_NUMBER,CYLINDER=5,True\n",
    "TIMEOUT_SETUP,TIMEOUT_MOVE=1,60 #in seconds"
   ]
  },
  {
   "cell_type": "markdown",
   "metadata": {},
   "source": [
    "#### Select players\n",
    "\n",
    "p1, p2 are the string names of the modules containing the player object.\n",
    "* If you have your own Player class in a file myplayer.py in the working directory, you can simply pass myplayer.\n",
    "* If your player is in a different module, then specify the class name like my_module/player_name\n",
    "* If the player is in a nested module. For example if you'd need to write from players.simple import Dumbo, then specify the player as players.simple/Dumbo."
   ]
  },
  {
   "cell_type": "code",
   "execution_count": 7,
   "metadata": {},
   "outputs": [],
   "source": [
    "# p1 = 'mctsplayer/MCTSPlayer'\n",
    "# p1 = 'myplayer/MyPlayer'\n",
    "p1 = 'compplayer/CompPlayer'\n",
    "p2 = 'dummies/SmartRandom'\n",
    "#p1='human' #(increase TIME MOVE if your brain goes slower than a computer)\n",
    "#p2 = 'SmartRandom'\n",
    "#p1 = 'dummies/Random'\n",
    "#p2 = 'dummies/LazySmartRandom'  \n",
    "#p1 = 'players.dummies/SmartRandom'"
   ]
  },
  {
   "cell_type": "markdown",
   "metadata": {},
   "source": [
    "## Play!!\n",
    "\n",
    "Player 1 plays with disc=1\\\n",
    "Player 2 plays with disc=-1\\\n",
    "Empty spots are marked with 0\\\n",
    "Final connected discs of Player 1 are marked with 2\\\n",
    "Final connected discs of Player 2 are marked with -2"
   ]
  },
  {
   "cell_type": "code",
   "execution_count": 8,
   "metadata": {},
   "outputs": [
    {
     "name": "stdout",
     "output_type": "stream",
     "text": [
      "Playing mctsplayer/MCTSPlayer against dummies/SmartRandom\n",
      "Final Board: \n",
      "[[ 0  0  0  0  0  0  0  0]\n",
      " [ 0  0  0  0  0  0  0  0]\n",
      " [ 0  0  0  0  0  0  2  0]\n",
      " [ 0 -1  0  0  0  0  2  0]\n",
      " [-1 -1 -1  0  0  0  2 -1]\n",
      " [-1  1  1  0  0  1  2  1]\n",
      " [-1 -1 -1  0  1  1  2 -1]]\n",
      "Moves: \n",
      "[6, 2, 5, 0, 2, 0, 6, 7, 7, 1, 1, 0, 4, 1, 6, 1, 5, 2, 6, 7, 6]\n",
      "Winner: mctsplayer/MCTSPlayer\n",
      "Reason: Connect 5!\n",
      "----------------------------------\n",
      "mctsplayer/MCTSPlayer victories: 1\n",
      "dummies/SmartRandom victories: 0\n",
      "draws: 0\n",
      "----------------------------------\n",
      "Final Board: \n",
      "[[ 1 -1  0  0 -1  1  0  0]\n",
      " [ 1  1  0  0 -1  1  0  0]\n",
      " [-1  2  2  2  2  2  0  1]\n",
      " [-1  1 -1 -1  1 -1 -1 -1]\n",
      " [ 1 -1 -1 -1  1  1 -1 -1]\n",
      " [-1  1  1 -1 -1 -1 -1  1]\n",
      " [ 1 -1  1  1  1 -1 -1  1]]\n",
      "Moves: \n",
      "[3, 1, 2, 5, 4, 4, 1, 1, 4, 3, 0, 3, 2, 2, 7, 0, 7, 7, 0, 2, 4, 7, 1, 5, 5, 0, 4, 4, 1, 5, 5, 0, 7, 6, 5, 6, 0, 3, 5, 4, 0, 6, 1, 1, 2, 6, 3]\n",
      "Winner: mctsplayer/MCTSPlayer\n",
      "Reason: Connect 5!\n",
      "----------------------------------\n",
      "mctsplayer/MCTSPlayer victories: 2\n",
      "dummies/SmartRandom victories: 0\n",
      "draws: 0\n",
      "----------------------------------\n",
      "Final Board: \n",
      "[[ 0  0  0  0  0  0  0  0]\n",
      " [ 0  0  0  0  0  0  0  0]\n",
      " [ 0  0  0  0  0  0  0  0]\n",
      " [ 0 -1  0  0  0  0  0  0]\n",
      " [ 2  2  0  0  0  2  2  2]\n",
      " [-1  1  0 -1  0 -1 -1 -1]\n",
      " [-1  1 -1  1  0  1 -1  1]]\n",
      "Moves: \n",
      "[3, 0, 7, 6, 5, 7, 1, 0, 0, 5, 1, 6, 1, 2, 6, 3, 7, 1, 5]\n",
      "Winner: mctsplayer/MCTSPlayer\n",
      "Reason: Connect 5!\n",
      "----------------------------------\n",
      "mctsplayer/MCTSPlayer victories: 3\n",
      "dummies/SmartRandom victories: 0\n",
      "draws: 0\n",
      "----------------------------------\n",
      "Final Board: \n",
      "[[ 0  0  0  0  0  0  0  0]\n",
      " [ 0  0  0  0  0 -2 -1  1]\n",
      " [ 0  0  1  1  0 -1 -2 -1]\n",
      " [ 1  1 -1 -1  1  1  1 -2]\n",
      " [-2  1  1 -1  1 -1 -1 -1]\n",
      " [ 1 -2  1 -1 -1  1  1  1]\n",
      " [ 1 -1  1 -1  1 -1  1 -1]]\n",
      "Moves: \n",
      "[6, 1, 2, 7, 2, 3, 7, 1, 1, 3, 6, 5, 2, 7, 0, 3, 1, 6, 0, 3, 4, 7, 6, 0, 5, 7, 0, 4, 7, 2, 4, 5, 5, 6, 2, 6, 3, 5, 4, 5]\n",
      "Winner: dummies/SmartRandom\n",
      "Reason: Connect 5!\n",
      "----------------------------------\n",
      "mctsplayer/MCTSPlayer victories: 3\n",
      "dummies/SmartRandom victories: 1\n",
      "draws: 0\n",
      "----------------------------------\n",
      "Final Board: \n",
      "[[ 0  0  0  0  0  1  0  0]\n",
      " [ 2  0  0  0  0  1  1  0]\n",
      " [ 1  0  0  0  0  1 -1  2]\n",
      " [-1  0 -1 -1  0 -1  2 -1]\n",
      " [ 1  1  1 -1  0  2 -1 -1]\n",
      " [-1  1 -1  1  2 -1  1 -1]\n",
      " [-1  1  1 -1 -1  1 -1 -1]]\n",
      "Moves: \n",
      "[5, 5, 1, 7, 5, 6, 2, 5, 5, 3, 3, 3, 5, 7, 6, 2, 1, 6, 2, 0, 5, 0, 1, 7, 6, 6, 6, 3, 0, 0, 0, 7, 0, 4, 7, 2, 4]\n",
      "Winner: mctsplayer/MCTSPlayer\n",
      "Reason: Connect 5!\n",
      "----------------------------------\n",
      "mctsplayer/MCTSPlayer victories: 4\n",
      "dummies/SmartRandom victories: 1\n",
      "draws: 0\n",
      "----------------------------------\n"
     ]
    }
   ],
   "source": [
    "print(f'Playing {p1} against {p2}')  \n",
    "w,d,l=0,0,0\n",
    "for i in range(Ngames):\n",
    "    game = Connect4Board(rows=ROWS, cols=COLS,connect_number=CONNECT_NUMBER,cylinder=CYLINDER,\n",
    "        timeout_move=TIMEOUT_MOVE,timeout_setup=TIMEOUT_SETUP,deterministic=True)\n",
    "    winner, reason, moves = game.play(p1, p2)\n",
    "    if winner==p1:\n",
    "        w+=1\n",
    "    elif winner==p2:\n",
    "        l+=1\n",
    "    else:\n",
    "        d+=1 \n",
    "    print(f'Final Board: \\n{game}')\n",
    "    print(f'Moves: \\n{moves}')\n",
    "\n",
    "    print('Winner: %s' % winner)\n",
    "    print('Reason: %s' % reason)\n",
    "    print('----------------------------------')\n",
    "    print(f'{p1} victories: {w}')\n",
    "    print(f'{p2} victories: {l}')\n",
    "    print(f'draws: {d}' )\n",
    "    print('----------------------------------')"
   ]
  }
 ],
 "metadata": {
  "kernelspec": {
   "display_name": "clases",
   "language": "python",
   "name": "python3"
  },
  "language_info": {
   "codemirror_mode": {
    "name": "ipython",
    "version": 3
   },
   "file_extension": ".py",
   "mimetype": "text/x-python",
   "name": "python",
   "nbconvert_exporter": "python",
   "pygments_lexer": "ipython3",
   "version": "3.11.6"
  }
 },
 "nbformat": 4,
 "nbformat_minor": 2
}
